{
 "cells": [
  {
   "cell_type": "code",
   "execution_count": 1,
   "id": "21fa3423-535c-48ff-ad17-0fe561779f7d",
   "metadata": {},
   "outputs": [],
   "source": [
    "import pandas as pd\n",
    "import sqlite3"
   ]
  },
  {
   "cell_type": "code",
   "execution_count": 2,
   "id": "9fe60d26-ac2e-4c7c-88af-7e5625c8a70a",
   "metadata": {},
   "outputs": [],
   "source": [
    "# conectamos con la base de datos my_database.db\n",
    "connection = sqlite3.connect(\"Cervezas_database.db\")\n",
    "\n",
    "# obtenemos un cursor que utilizamos para las queries\n",
    "crsr = connection.cursor()\n"
   ]
  },
  {
   "cell_type": "code",
   "execution_count": 3,
   "id": "48a7224a-6f92-41ac-9c71-4e579e7d68bf",
   "metadata": {},
   "outputs": [],
   "source": [
    "# Con esta función leemos los datos y lo pasamos a un DataFrame de Pandas\n",
    "def sql_query(query):\n",
    "\n",
    "    # Ejecuta la query\n",
    "    crsr.execute(query)\n",
    "\n",
    "    # Almacena los datos de la query \n",
    "    ans = crsr.fetchall()\n",
    "\n",
    "    # Obtenemos los nombres de las columnas de la tabla\n",
    "    names = [description[0] for description in crsr.description]\n",
    "\n",
    "    return pd.DataFrame(ans,columns=names)"
   ]
  },
  {
   "cell_type": "code",
   "execution_count": 4,
   "id": "7414bb6b-33e0-4b9b-be2a-e9c6812b12ff",
   "metadata": {},
   "outputs": [],
   "source": [
    "res = crsr.execute(\"SELECT name FROM sqlite_master WHERE type='table'\")\n",
    "for name in res:\n",
    "    print(name[0]) # una vez que las tablas estén creadas, deberán aparecer aquí"
   ]
  },
  {
   "cell_type": "code",
   "execution_count": 17,
   "id": "a710861e-d72c-479f-8535-4f053d99c209",
   "metadata": {},
   "outputs": [
    {
     "name": "stdout",
     "output_type": "stream",
     "text": [
      "Cervezas\n",
      "Bares\n",
      "Empleados\n",
      "Reparto\n"
     ]
    }
   ],
   "source": [
    "res = crsr.execute(\"SELECT name FROM sqlite_master WHERE type='table'\")\n",
    "for name in res:\n",
    "    print(name[0])"
   ]
  },
  {
   "cell_type": "code",
   "execution_count": 5,
   "id": "b7645636-44ef-4929-b0b2-62b8a24978a8",
   "metadata": {},
   "outputs": [
    {
     "data": {
      "text/plain": [
       "<sqlite3.Cursor at 0x1cc17a191c0>"
      ]
     },
     "execution_count": 5,
     "metadata": {},
     "output_type": "execute_result"
    }
   ],
   "source": [
    "# hay que crear las tablas\n",
    "query = '''\n",
    "CREATE TABLE IF NOT EXISTS Cervezas (\n",
    "    CodC int,\n",
    "    Envase varchar(255),\n",
    "    Capacidad int,\n",
    "    Stock int,\n",
    "    PRIMARY KEY(CodC)\n",
    ")\n",
    "'''\n",
    "crsr.execute(query)"
   ]
  },
  {
   "cell_type": "code",
   "execution_count": 6,
   "id": "9b761194-1037-47cd-b615-52d5be6bb6a1",
   "metadata": {},
   "outputs": [
    {
     "data": {
      "text/plain": [
       "<sqlite3.Cursor at 0x1cc17a191c0>"
      ]
     },
     "execution_count": 6,
     "metadata": {},
     "output_type": "execute_result"
    }
   ],
   "source": [
    "# hay que crear las tablas \n",
    "query = '''\n",
    "CREATE TABLE IF NOT EXISTS Bares (\n",
    "    CodB int,\n",
    "    Nombre varchar(255),\n",
    "    Cif varchar(255),\n",
    "    Localidad varchar(255),\n",
    "    PRIMARY KEY(CodB)\n",
    ")\n",
    "'''\n",
    "crsr.execute(query)"
   ]
  },
  {
   "cell_type": "code",
   "execution_count": 7,
   "id": "55ac1ba2-c8ca-4f7d-af0e-6e1b51c72295",
   "metadata": {},
   "outputs": [
    {
     "data": {
      "text/plain": [
       "<sqlite3.Cursor at 0x1cc17a191c0>"
      ]
     },
     "execution_count": 7,
     "metadata": {},
     "output_type": "execute_result"
    }
   ],
   "source": [
    "query = '''\n",
    "CREATE TABLE IF NOT EXISTS Empleados (\n",
    "    CodE int,\n",
    "    Nombres varchar(255),\n",
    "    Sueldo varchar(255),\n",
    "    PRIMARY KEY(CodE)\n",
    ")\n",
    "'''\n",
    "crsr.execute(query)\n"
   ]
  },
  {
   "cell_type": "code",
   "execution_count": 8,
   "id": "cb1b3089",
   "metadata": {},
   "outputs": [
    {
     "data": {
      "text/plain": [
       "<sqlite3.Cursor at 0x1cc17a191c0>"
      ]
     },
     "execution_count": 8,
     "metadata": {},
     "output_type": "execute_result"
    }
   ],
   "source": [
    "query = '''\n",
    "CREATE TABLE IF NOT EXISTS Reparto (\n",
    "    CodE int,\n",
    "    CodB int,\n",
    "    CodC int,\n",
    "    Fecha Date,\n",
    "    Cantidad SMALLINT,\n",
    "    PRIMARY KEY (CodE, CodB, CodC, Fecha), \n",
    "    FOREIGN KEY (CodE) REFERENCES Empleados(CodE),\n",
    "    FOREIGN KEY (CodB) REFERENCES Bares(CodB),\n",
    "    FOREIGN KEY (CodC) REFERENCES Cervezas(CodC)\n",
    ");\n",
    "'''\n",
    "crsr.execute(query)\n"
   ]
  },
  {
   "cell_type": "code",
   "execution_count": 9,
   "id": "aed4f5d5-8a78-497f-b95d-1ce281ef74c7",
   "metadata": {},
   "outputs": [
    {
     "data": {
      "text/plain": [
       "<sqlite3.Cursor at 0x1cc17a191c0>"
      ]
     },
     "execution_count": 9,
     "metadata": {},
     "output_type": "execute_result"
    }
   ],
   "source": [
    "# hay que insertar los datos\n",
    "query = '''\n",
    "INSERT OR REPLACE INTO Cervezas VALUES ('01', 'Botella', '0,2', '3600'),\n",
    "('02', 'Botella', '0,33', '1200'),\n",
    "('03', 'Lata', '0,33', '2400'),\n",
    "('04', 'Botella', '1', '288'),\n",
    "('05', 'Barril', '60', '30')\n",
    "'''\n",
    "crsr.execute(query)"
   ]
  },
  {
   "cell_type": "code",
   "execution_count": 10,
   "id": "c9e845b6-1057-47ab-a4c2-839afce73a91",
   "metadata": {},
   "outputs": [
    {
     "data": {
      "text/plain": [
       "<sqlite3.Cursor at 0x1cc17a191c0>"
      ]
     },
     "execution_count": 10,
     "metadata": {},
     "output_type": "execute_result"
    }
   ],
   "source": [
    "query = '''\n",
    "INSERT OR REPLACE INTO Bares VALUES ('001','Stop', '11111111X','Villa Botijo'),\n",
    "('002', 'Las Vegas', '22222222Y', 'Villa Botijo'),\n",
    "('003', 'Club Social', NULL, 'Las Ranas'),\n",
    "('004','Otra Ronda','33333333Z','La Esponja')\n",
    "'''\n",
    "crsr.execute(query)"
   ]
  },
  {
   "cell_type": "code",
   "execution_count": 11,
   "id": "58b324fa-06a2-4ae6-a2c8-ae910c7d5664",
   "metadata": {},
   "outputs": [
    {
     "data": {
      "text/plain": [
       "<sqlite3.Cursor at 0x1cc17a191c0>"
      ]
     },
     "execution_count": 11,
     "metadata": {},
     "output_type": "execute_result"
    }
   ],
   "source": [
    "query = '''\n",
    "INSERT OR REPLACE INTO Empleados VALUES ('1','Carlos Lopez',120000),\n",
    "('2', 'Rosa Perez', 110000),\n",
    "('3', 'Luisa Garcia', 100000)\n",
    "'''\n",
    "# CRUD Create Register(insert) Update Delete\n",
    "crsr.execute(query)"
   ]
  },
  {
   "cell_type": "code",
   "execution_count": 12,
   "id": "5fad6d0a-0e8c-49ac-b59b-53f9348fa0f6",
   "metadata": {},
   "outputs": [
    {
     "data": {
      "text/plain": [
       "<sqlite3.Cursor at 0x1cc17a191c0>"
      ]
     },
     "execution_count": 12,
     "metadata": {},
     "output_type": "execute_result"
    }
   ],
   "source": [
    "query = '''\n",
    "INSERT OR REPLACE INTO Reparto VALUES ('1',  '001',  '01', '10/21/05', '240'),\n",
    "('1', '001', '02', '10/21/05', '48'),\n",
    "('1', '002', '03', '10/22/05', '60'),\n",
    "('1', '004', '05', '10/22/05', '4'),\n",
    "('2', '002', '03', '10/22/05', '48'),\n",
    "('2', '002', '05', '10/23/05', '2'),\n",
    "('2', '004', '01', '10/23/05', '480'),\n",
    "('2', '004', '02', '10/24/05', '72'),\n",
    "('3', '003', '03', '10/24/05', '48'),\n",
    "('3', '003', '04', '10/25/05', '20')\n",
    "'''\n",
    "# CRUD Create Register(insert) Update Delete\n",
    "crsr.execute(query)"
   ]
  },
  {
   "cell_type": "code",
   "execution_count": 13,
   "id": "f5871f64-791f-4595-be6f-6c9c0d53c80c",
   "metadata": {},
   "outputs": [
    {
     "data": {
      "text/html": [
       "<div>\n",
       "<style scoped>\n",
       "    .dataframe tbody tr th:only-of-type {\n",
       "        vertical-align: middle;\n",
       "    }\n",
       "\n",
       "    .dataframe tbody tr th {\n",
       "        vertical-align: top;\n",
       "    }\n",
       "\n",
       "    .dataframe thead th {\n",
       "        text-align: right;\n",
       "    }\n",
       "</style>\n",
       "<table border=\"1\" class=\"dataframe\">\n",
       "  <thead>\n",
       "    <tr style=\"text-align: right;\">\n",
       "      <th></th>\n",
       "      <th>CodE</th>\n",
       "      <th>CodB</th>\n",
       "      <th>CodC</th>\n",
       "      <th>Fecha</th>\n",
       "      <th>Cantidad</th>\n",
       "    </tr>\n",
       "  </thead>\n",
       "  <tbody>\n",
       "    <tr>\n",
       "      <th>0</th>\n",
       "      <td>1</td>\n",
       "      <td>1</td>\n",
       "      <td>1</td>\n",
       "      <td>10/21/05</td>\n",
       "      <td>240</td>\n",
       "    </tr>\n",
       "    <tr>\n",
       "      <th>1</th>\n",
       "      <td>1</td>\n",
       "      <td>1</td>\n",
       "      <td>2</td>\n",
       "      <td>10/21/05</td>\n",
       "      <td>48</td>\n",
       "    </tr>\n",
       "    <tr>\n",
       "      <th>2</th>\n",
       "      <td>1</td>\n",
       "      <td>2</td>\n",
       "      <td>3</td>\n",
       "      <td>10/22/05</td>\n",
       "      <td>60</td>\n",
       "    </tr>\n",
       "    <tr>\n",
       "      <th>3</th>\n",
       "      <td>1</td>\n",
       "      <td>4</td>\n",
       "      <td>5</td>\n",
       "      <td>10/22/05</td>\n",
       "      <td>4</td>\n",
       "    </tr>\n",
       "    <tr>\n",
       "      <th>4</th>\n",
       "      <td>2</td>\n",
       "      <td>2</td>\n",
       "      <td>3</td>\n",
       "      <td>10/22/05</td>\n",
       "      <td>48</td>\n",
       "    </tr>\n",
       "    <tr>\n",
       "      <th>5</th>\n",
       "      <td>2</td>\n",
       "      <td>2</td>\n",
       "      <td>5</td>\n",
       "      <td>10/23/05</td>\n",
       "      <td>2</td>\n",
       "    </tr>\n",
       "    <tr>\n",
       "      <th>6</th>\n",
       "      <td>2</td>\n",
       "      <td>4</td>\n",
       "      <td>1</td>\n",
       "      <td>10/23/05</td>\n",
       "      <td>480</td>\n",
       "    </tr>\n",
       "    <tr>\n",
       "      <th>7</th>\n",
       "      <td>2</td>\n",
       "      <td>4</td>\n",
       "      <td>2</td>\n",
       "      <td>10/24/05</td>\n",
       "      <td>72</td>\n",
       "    </tr>\n",
       "    <tr>\n",
       "      <th>8</th>\n",
       "      <td>3</td>\n",
       "      <td>3</td>\n",
       "      <td>3</td>\n",
       "      <td>10/24/05</td>\n",
       "      <td>48</td>\n",
       "    </tr>\n",
       "    <tr>\n",
       "      <th>9</th>\n",
       "      <td>3</td>\n",
       "      <td>3</td>\n",
       "      <td>4</td>\n",
       "      <td>10/25/05</td>\n",
       "      <td>20</td>\n",
       "    </tr>\n",
       "  </tbody>\n",
       "</table>\n",
       "</div>"
      ],
      "text/plain": [
       "   CodE  CodB  CodC     Fecha  Cantidad\n",
       "0     1     1     1  10/21/05       240\n",
       "1     1     1     2  10/21/05        48\n",
       "2     1     2     3  10/22/05        60\n",
       "3     1     4     5  10/22/05         4\n",
       "4     2     2     3  10/22/05        48\n",
       "5     2     2     5  10/23/05         2\n",
       "6     2     4     1  10/23/05       480\n",
       "7     2     4     2  10/24/05        72\n",
       "8     3     3     3  10/24/05        48\n",
       "9     3     3     4  10/25/05        20"
      ]
     },
     "execution_count": 13,
     "metadata": {},
     "output_type": "execute_result"
    }
   ],
   "source": [
    "query = '''\n",
    "SELECT * FROM reparto \n",
    "'''\n",
    "sql_query(query)"
   ]
  },
  {
   "cell_type": "code",
   "execution_count": null,
   "id": "2ee631fd-0712-4a3b-852e-e80adcc9e06b",
   "metadata": {},
   "outputs": [
    {
     "data": {
      "text/html": [
       "<div>\n",
       "<style scoped>\n",
       "    .dataframe tbody tr th:only-of-type {\n",
       "        vertical-align: middle;\n",
       "    }\n",
       "\n",
       "    .dataframe tbody tr th {\n",
       "        vertical-align: top;\n",
       "    }\n",
       "\n",
       "    .dataframe thead th {\n",
       "        text-align: right;\n",
       "    }\n",
       "</style>\n",
       "<table border=\"1\" class=\"dataframe\">\n",
       "  <thead>\n",
       "    <tr style=\"text-align: right;\">\n",
       "      <th></th>\n",
       "      <th>CodE</th>\n",
       "      <th>CodB</th>\n",
       "      <th>CodC</th>\n",
       "      <th>Fecha</th>\n",
       "      <th>Cantidad</th>\n",
       "      <th>CodB</th>\n",
       "      <th>Nombre</th>\n",
       "      <th>Cif</th>\n",
       "      <th>Localidad</th>\n",
       "      <th>CodE</th>\n",
       "      <th>Nombres</th>\n",
       "      <th>Sueldo</th>\n",
       "    </tr>\n",
       "  </thead>\n",
       "  <tbody>\n",
       "  </tbody>\n",
       "</table>\n",
       "</div>"
      ],
      "text/plain": [
       "Empty DataFrame\n",
       "Columns: [CodE, CodB, CodC, Fecha, Cantidad, CodB, Nombre, Cif, Localidad, CodE, Nombres, Sueldo]\n",
       "Index: []"
      ]
     },
     "execution_count": 14,
     "metadata": {},
     "output_type": "execute_result"
    }
   ],
   "source": [
    "# 1 Obtener el nombre de los empleados que hayan repartido al bar Stop durante la semana \n",
    "# del 17 al 23 de octubre de 2005.\n",
    "\n",
    "query = '''\n",
    "SELECT *\n",
    "FROM Reparto\n",
    "LEFT JOIN Bares\n",
    "ON Reparto.CodB = Bares.CodB\n",
    "LEFT JOIN Empleados\n",
    "ON Reparto.CodE = Empleados.CodE\n",
    "WHERE Bares.Nombre = \"Stop\" AND Reparto.Fecha BETWEEN '17/10/05' AND '23/10/05'\n",
    "'''\n",
    "sql_query(query)\n"
   ]
  },
  {
   "cell_type": "code",
   "execution_count": 15,
   "id": "ad5fa98a-947b-4c19-a049-488074242cb7",
   "metadata": {},
   "outputs": [
    {
     "ename": "OperationalError",
     "evalue": "no such column: Cerveza.Envase",
     "output_type": "error",
     "traceback": [
      "\u001b[31m---------------------------------------------------------------------------\u001b[39m",
      "\u001b[31mOperationalError\u001b[39m                          Traceback (most recent call last)",
      "\u001b[36mCell\u001b[39m\u001b[36m \u001b[39m\u001b[32mIn[15]\u001b[39m\u001b[32m, line 12\u001b[39m\n\u001b[32m      1\u001b[39m \u001b[38;5;66;03m#2\u001b[39;00m\n\u001b[32m      2\u001b[39m query = \u001b[33m'''\u001b[39m\n\u001b[32m      3\u001b[39m \u001b[33mSELECT DISTINCT Bares.Cif\u001b[39m\n\u001b[32m      4\u001b[39m \u001b[33mFROM Reparto\u001b[39m\n\u001b[32m   (...)\u001b[39m\u001b[32m      9\u001b[39m \u001b[33mWHERE Cerveza.Envase = \u001b[39m\u001b[33m\"\u001b[39m\u001b[33mBotella\u001b[39m\u001b[33m\"\u001b[39m\u001b[33m AND Cerveza.Capacidad < 1\u001b[39m\n\u001b[32m     10\u001b[39m \u001b[33m'''\u001b[39m\n\u001b[32m---> \u001b[39m\u001b[32m12\u001b[39m \u001b[43msql_query\u001b[49m\u001b[43m(\u001b[49m\u001b[43mquery\u001b[49m\u001b[43m)\u001b[49m\n",
      "\u001b[36mCell\u001b[39m\u001b[36m \u001b[39m\u001b[32mIn[3]\u001b[39m\u001b[32m, line 5\u001b[39m, in \u001b[36msql_query\u001b[39m\u001b[34m(query)\u001b[39m\n\u001b[32m      2\u001b[39m \u001b[38;5;28;01mdef\u001b[39;00m\u001b[38;5;250m \u001b[39m\u001b[34msql_query\u001b[39m(query):\n\u001b[32m      3\u001b[39m \n\u001b[32m      4\u001b[39m     \u001b[38;5;66;03m# Ejecuta la query\u001b[39;00m\n\u001b[32m----> \u001b[39m\u001b[32m5\u001b[39m     \u001b[43mcrsr\u001b[49m\u001b[43m.\u001b[49m\u001b[43mexecute\u001b[49m\u001b[43m(\u001b[49m\u001b[43mquery\u001b[49m\u001b[43m)\u001b[49m\n\u001b[32m      7\u001b[39m     \u001b[38;5;66;03m# Almacena los datos de la query \u001b[39;00m\n\u001b[32m      8\u001b[39m     ans = crsr.fetchall()\n",
      "\u001b[31mOperationalError\u001b[39m: no such column: Cerveza.Envase"
     ]
    }
   ],
   "source": [
    "#2\n",
    "query = '''\n",
    "SELECT DISTINCT Bares.Cif\n",
    "FROM Reparto\n",
    "LEFT JOIN Bares\n",
    "ON Reparto.CodB = Bares.CodB\n",
    "LEFT JOIN Cervezas\n",
    "ON Reparto.CodC = Cerveza.CodC\n",
    "WHERE Cerveza.Envase = \"Botella\" AND Cerveza.Capacidad < 1\n",
    "'''\n",
    "\n",
    "sql_query(query)"
   ]
  },
  {
   "cell_type": "code",
   "execution_count": 16,
   "id": "decae038-7948-40ba-b9e3-5c150153b640",
   "metadata": {},
   "outputs": [
    {
     "ename": "OperationalError",
     "evalue": "no such column: Empleados.Nombre",
     "output_type": "error",
     "traceback": [
      "\u001b[31m---------------------------------------------------------------------------\u001b[39m",
      "\u001b[31mOperationalError\u001b[39m                          Traceback (most recent call last)",
      "\u001b[36mCell\u001b[39m\u001b[36m \u001b[39m\u001b[32mIn[16]\u001b[39m\u001b[32m, line 11\u001b[39m\n\u001b[32m      1\u001b[39m \u001b[38;5;66;03m#3\u001b[39;00m\n\u001b[32m      2\u001b[39m query = \u001b[33m'''\u001b[39m\n\u001b[32m      3\u001b[39m \u001b[33mSELECT DISTINCT Bares.Nombre, Empleados.Nombre, Cervezas.Envase\u001b[39m\n\u001b[32m      4\u001b[39m \u001b[33mFROM Reparto\u001b[39m\n\u001b[32m   (...)\u001b[39m\u001b[32m      9\u001b[39m \u001b[33mWHERE Cerveza.Envase = \u001b[39m\u001b[33m\"\u001b[39m\u001b[33mBotella\u001b[39m\u001b[33m\"\u001b[39m\u001b[33m AND Cerveza.Capacidad < 1\u001b[39m\n\u001b[32m     10\u001b[39m \u001b[33m'''\u001b[39m\n\u001b[32m---> \u001b[39m\u001b[32m11\u001b[39m \u001b[43msql_query\u001b[49m\u001b[43m(\u001b[49m\u001b[43mquery\u001b[49m\u001b[43m)\u001b[49m\n",
      "\u001b[36mCell\u001b[39m\u001b[36m \u001b[39m\u001b[32mIn[3]\u001b[39m\u001b[32m, line 5\u001b[39m, in \u001b[36msql_query\u001b[39m\u001b[34m(query)\u001b[39m\n\u001b[32m      2\u001b[39m \u001b[38;5;28;01mdef\u001b[39;00m\u001b[38;5;250m \u001b[39m\u001b[34msql_query\u001b[39m(query):\n\u001b[32m      3\u001b[39m \n\u001b[32m      4\u001b[39m     \u001b[38;5;66;03m# Ejecuta la query\u001b[39;00m\n\u001b[32m----> \u001b[39m\u001b[32m5\u001b[39m     \u001b[43mcrsr\u001b[49m\u001b[43m.\u001b[49m\u001b[43mexecute\u001b[49m\u001b[43m(\u001b[49m\u001b[43mquery\u001b[49m\u001b[43m)\u001b[49m\n\u001b[32m      7\u001b[39m     \u001b[38;5;66;03m# Almacena los datos de la query \u001b[39;00m\n\u001b[32m      8\u001b[39m     ans = crsr.fetchall()\n",
      "\u001b[31mOperationalError\u001b[39m: no such column: Empleados.Nombre"
     ]
    }
   ],
   "source": [
    "#3\n",
    "query = '''\n",
    "SELECT DISTINCT Bares.Nombre, Empleados.Nombre, Cervezas.Envase\n",
    "FROM Reparto\n",
    "LEFT JOIN Bares\n",
    "ON Reparto.CodB = Bares.CodB\n",
    "LEFT JOIN Cervezas\n",
    "ON Reparto.CodC = Cervezas.CodC\n",
    "WHERE Cerveza.Envase = \"Botella\" AND Cerveza.Capacidad < 1\n",
    "'''\n",
    "sql_query(query)"
   ]
  },
  {
   "cell_type": "code",
   "execution_count": null,
   "id": "2a176819-90fa-4ed1-ae8e-0ce753cf01ce",
   "metadata": {},
   "outputs": [
    {
     "data": {
      "text/html": [
       "<div>\n",
       "<style scoped>\n",
       "    .dataframe tbody tr th:only-of-type {\n",
       "        vertical-align: middle;\n",
       "    }\n",
       "\n",
       "    .dataframe tbody tr th {\n",
       "        vertical-align: top;\n",
       "    }\n",
       "\n",
       "    .dataframe thead th {\n",
       "        text-align: right;\n",
       "    }\n",
       "</style>\n",
       "<table border=\"1\" class=\"dataframe\">\n",
       "  <thead>\n",
       "    <tr style=\"text-align: right;\">\n",
       "      <th></th>\n",
       "      <th>Nombre</th>\n",
       "      <th>Envase</th>\n",
       "      <th>Capacidad</th>\n",
       "    </tr>\n",
       "  </thead>\n",
       "  <tbody>\n",
       "    <tr>\n",
       "      <th>0</th>\n",
       "      <td>Stop</td>\n",
       "      <td>Botella</td>\n",
       "      <td>0.20</td>\n",
       "    </tr>\n",
       "    <tr>\n",
       "      <th>1</th>\n",
       "      <td>Stop</td>\n",
       "      <td>Botella</td>\n",
       "      <td>0.33</td>\n",
       "    </tr>\n",
       "    <tr>\n",
       "      <th>2</th>\n",
       "      <td>Otra Ronda</td>\n",
       "      <td>Botella</td>\n",
       "      <td>0.20</td>\n",
       "    </tr>\n",
       "    <tr>\n",
       "      <th>3</th>\n",
       "      <td>Otra Ronda</td>\n",
       "      <td>Botella</td>\n",
       "      <td>0.33</td>\n",
       "    </tr>\n",
       "  </tbody>\n",
       "</table>\n",
       "</div>"
      ],
      "text/plain": [
       "       Nombre   Envase  Capacidad\n",
       "0        Stop  Botella       0.20\n",
       "1        Stop  Botella       0.33\n",
       "2  Otra Ronda  Botella       0.20\n",
       "3  Otra Ronda  Botella       0.33"
      ]
     },
     "execution_count": 19,
     "metadata": {},
     "output_type": "execute_result"
    }
   ],
   "source": [
    "#4\n",
    "query = '''\n",
    "\n",
    "\n",
    "'''\n",
    "sql_query(query)"
   ]
  },
  {
   "cell_type": "code",
   "execution_count": null,
   "id": "327dd478-0541-4e49-9941-b2faab50c528",
   "metadata": {},
   "outputs": [
    {
     "data": {
      "text/html": [
       "<div>\n",
       "<style scoped>\n",
       "    .dataframe tbody tr th:only-of-type {\n",
       "        vertical-align: middle;\n",
       "    }\n",
       "\n",
       "    .dataframe tbody tr th {\n",
       "        vertical-align: top;\n",
       "    }\n",
       "\n",
       "    .dataframe thead th {\n",
       "        text-align: right;\n",
       "    }\n",
       "</style>\n",
       "<table border=\"1\" class=\"dataframe\">\n",
       "  <thead>\n",
       "    <tr style=\"text-align: right;\">\n",
       "      <th></th>\n",
       "      <th>nombreE</th>\n",
       "      <th>nombreB</th>\n",
       "      <th>Envase</th>\n",
       "    </tr>\n",
       "  </thead>\n",
       "  <tbody>\n",
       "    <tr>\n",
       "      <th>0</th>\n",
       "      <td>Carlos Lopez</td>\n",
       "      <td>Stop</td>\n",
       "      <td>Botella</td>\n",
       "    </tr>\n",
       "    <tr>\n",
       "      <th>1</th>\n",
       "      <td>Carlos Lopez</td>\n",
       "      <td>Stop</td>\n",
       "      <td>Botella</td>\n",
       "    </tr>\n",
       "  </tbody>\n",
       "</table>\n",
       "</div>"
      ],
      "text/plain": [
       "        nombreE nombreB   Envase\n",
       "0  Carlos Lopez    Stop  Botella\n",
       "1  Carlos Lopez    Stop  Botella"
      ]
     },
     "execution_count": 20,
     "metadata": {},
     "output_type": "execute_result"
    }
   ],
   "source": [
    "#5\n",
    "query = '''\n",
    "SELECT DISTINCT Bares.Nombre, Empleados.Nombre, Cervezas.Envase\n",
    "FROM Reparto\n",
    "LEFT JOIN Bares\n",
    "ON Reparto.CodB = Bares.CodB\n",
    "LEFT JOIN Cervezas\n",
    "ON Reparto.CodC = Cervezas.CodC\n",
    "LEFT JOIN Empleados\n",
    "ON Reparto.CodE = Empleados.CodE\n",
    "WHERE Bares.Nombre IN (\"Stop\", \"Las Vegas\") AND Cerveza.Envase = \"Botella\" \n",
    "'''\n",
    "sql_query(query)"
   ]
  },
  {
   "cell_type": "code",
   "execution_count": null,
   "id": "9a05e91e-9b11-4953-9e53-86a53544c71d",
   "metadata": {},
   "outputs": [
    {
     "data": {
      "text/html": [
       "<div>\n",
       "<style scoped>\n",
       "    .dataframe tbody tr th:only-of-type {\n",
       "        vertical-align: middle;\n",
       "    }\n",
       "\n",
       "    .dataframe tbody tr th {\n",
       "        vertical-align: top;\n",
       "    }\n",
       "\n",
       "    .dataframe thead th {\n",
       "        text-align: right;\n",
       "    }\n",
       "</style>\n",
       "<table border=\"1\" class=\"dataframe\">\n",
       "  <thead>\n",
       "    <tr style=\"text-align: right;\">\n",
       "      <th></th>\n",
       "      <th>nombreE</th>\n",
       "      <th>nombreB</th>\n",
       "      <th>Envase</th>\n",
       "    </tr>\n",
       "  </thead>\n",
       "  <tbody>\n",
       "    <tr>\n",
       "      <th>0</th>\n",
       "      <td>Carlos Lopez</td>\n",
       "      <td>Stop</td>\n",
       "      <td>Botella</td>\n",
       "    </tr>\n",
       "  </tbody>\n",
       "</table>\n",
       "</div>"
      ],
      "text/plain": [
       "        nombreE nombreB   Envase\n",
       "0  Carlos Lopez    Stop  Botella"
      ]
     },
     "execution_count": 21,
     "metadata": {},
     "output_type": "execute_result"
    }
   ],
   "source": [
    "#6 \n",
    "query = '''\n",
    "SELECT Empleados.CodE, Empleados.Nombre, COUNT(*) as 'Viajes'\n",
    "FROM Reparto\n",
    "LEFT JOIN Bares\n",
    "ON Reparto.CodB = Bares.CodB\n",
    "LEFT JOIN Empleados\n",
    "ON Reparto.CodE = Empleados.CodE\n",
    "WHERE Bares.Localidad <> \"villa Botijo\"\n",
    "GROUP By Empleados.CodE\n",
    "'''\n",
    "sql_query(query)"
   ]
  },
  {
   "cell_type": "code",
   "execution_count": null,
   "id": "e9814519-30ea-4e41-acd7-ff0652827315",
   "metadata": {},
   "outputs": [
    {
     "data": {
      "text/html": [
       "<div>\n",
       "<style scoped>\n",
       "    .dataframe tbody tr th:only-of-type {\n",
       "        vertical-align: middle;\n",
       "    }\n",
       "\n",
       "    .dataframe tbody tr th {\n",
       "        vertical-align: top;\n",
       "    }\n",
       "\n",
       "    .dataframe thead th {\n",
       "        text-align: right;\n",
       "    }\n",
       "</style>\n",
       "<table border=\"1\" class=\"dataframe\">\n",
       "  <thead>\n",
       "    <tr style=\"text-align: right;\">\n",
       "      <th></th>\n",
       "      <th>nombreE</th>\n",
       "      <th>nombreB</th>\n",
       "      <th>Localidad</th>\n",
       "      <th>Fecha</th>\n",
       "    </tr>\n",
       "  </thead>\n",
       "  <tbody>\n",
       "    <tr>\n",
       "      <th>0</th>\n",
       "      <td>Carlos Lopez</td>\n",
       "      <td>Otra Ronda</td>\n",
       "      <td>La Esponja</td>\n",
       "      <td>2005-10-22</td>\n",
       "    </tr>\n",
       "    <tr>\n",
       "      <th>1</th>\n",
       "      <td>Rosa Perez</td>\n",
       "      <td>Otra Ronda</td>\n",
       "      <td>La Esponja</td>\n",
       "      <td>2005-10-23</td>\n",
       "    </tr>\n",
       "    <tr>\n",
       "      <th>2</th>\n",
       "      <td>Rosa Perez</td>\n",
       "      <td>Otra Ronda</td>\n",
       "      <td>La Esponja</td>\n",
       "      <td>2005-10-24</td>\n",
       "    </tr>\n",
       "    <tr>\n",
       "      <th>3</th>\n",
       "      <td>Luisa Garcia</td>\n",
       "      <td>Club Social</td>\n",
       "      <td>Las Ranas</td>\n",
       "      <td>2005-10-24</td>\n",
       "    </tr>\n",
       "    <tr>\n",
       "      <th>4</th>\n",
       "      <td>Luisa Garcia</td>\n",
       "      <td>Club Social</td>\n",
       "      <td>Las Ranas</td>\n",
       "      <td>2005-10-25</td>\n",
       "    </tr>\n",
       "  </tbody>\n",
       "</table>\n",
       "</div>"
      ],
      "text/plain": [
       "        nombreE      nombreB   Localidad       Fecha\n",
       "0  Carlos Lopez   Otra Ronda  La Esponja  2005-10-22\n",
       "1    Rosa Perez   Otra Ronda  La Esponja  2005-10-23\n",
       "2    Rosa Perez   Otra Ronda  La Esponja  2005-10-24\n",
       "3  Luisa Garcia  Club Social   Las Ranas  2005-10-24\n",
       "4  Luisa Garcia  Club Social   Las Ranas  2005-10-25"
      ]
     },
     "execution_count": 22,
     "metadata": {},
     "output_type": "execute_result"
    }
   ],
   "source": [
    "#7\n",
    "query = '''\n",
    "SELECT Bares.Nombre, Bares.Localidad, SUM(Cervezas.Capacidad * Reparto.Cantidad) AS Litros\n",
    "FROM Reparto\n",
    "LEFT JOIN Bares\n",
    "ON Reparto.CodB = Bares.CodB\n",
    "LEFT JOIN Cervezas\n",
    "ON Reparto.CodC = Cervezas.CodC\n",
    "GROUP BY 1,2\n",
    "ORDER BY 3 DESC\n",
    "LIMIT 1\n",
    "'''\n",
    "sql_query(query)"
   ]
  },
  {
   "cell_type": "code",
   "execution_count": null,
   "id": "ca3eb4b2-606c-4b9e-814b-9a95fa9e91d0",
   "metadata": {},
   "outputs": [
    {
     "ename": "OperationalError",
     "evalue": "near \"DATABASE\": syntax error",
     "output_type": "error",
     "traceback": [
      "\u001b[31m---------------------------------------------------------------------------\u001b[39m",
      "\u001b[31mOperationalError\u001b[39m                          Traceback (most recent call last)",
      "\u001b[36mCell\u001b[39m\u001b[36m \u001b[39m\u001b[32mIn[101]\u001b[39m\u001b[32m, line 5\u001b[39m\n\u001b[32m      1\u001b[39m \u001b[38;5;66;03m#8\u001b[39;00m\n\u001b[32m      2\u001b[39m query = \u001b[33m'''\u001b[39m\n\u001b[32m      3\u001b[39m \u001b[33mDROP DATABASE my_database.db;\u001b[39m\n\u001b[32m      4\u001b[39m \u001b[33m'''\u001b[39m\n\u001b[32m----> \u001b[39m\u001b[32m5\u001b[39m \u001b[43msql_query\u001b[49m\u001b[43m(\u001b[49m\u001b[43mquery\u001b[49m\u001b[43m)\u001b[49m\n",
      "\u001b[36mCell\u001b[39m\u001b[36m \u001b[39m\u001b[32mIn[84]\u001b[39m\u001b[32m, line 5\u001b[39m, in \u001b[36msql_query\u001b[39m\u001b[34m(query)\u001b[39m\n\u001b[32m      2\u001b[39m \u001b[38;5;28;01mdef\u001b[39;00m\u001b[38;5;250m \u001b[39m\u001b[34msql_query\u001b[39m(query):\n\u001b[32m      3\u001b[39m \n\u001b[32m      4\u001b[39m     \u001b[38;5;66;03m# Ejecuta la query\u001b[39;00m\n\u001b[32m----> \u001b[39m\u001b[32m5\u001b[39m     \u001b[43mcrsr\u001b[49m\u001b[43m.\u001b[49m\u001b[43mexecute\u001b[49m\u001b[43m(\u001b[49m\u001b[43mquery\u001b[49m\u001b[43m)\u001b[49m\n\u001b[32m      7\u001b[39m     \u001b[38;5;66;03m# Almacena los datos de la query \u001b[39;00m\n\u001b[32m      8\u001b[39m     ans = crsr.fetchall()\n",
      "\u001b[31mOperationalError\u001b[39m: near \"DATABASE\": syntax error"
     ]
    }
   ],
   "source": [
    "#8\n",
    "query = '''\n",
    "SELEC DISTINC Bares.Nombre\n",
    "FROM Reparto\n",
    "LEFT JOIN Bares\n",
    "ON Reparto.CodB = Bares.CodB\n",
    "LEFT Join Cervezas\n",
    "ON Reparto.CodC = Cervezas.CodC\n",
    "WHERE Cervezas.Envase = \"Botella\" AND Cervezas.Capacidad < 1\n",
    "\n",
    "'''\n",
    "sql_query(query)"
   ]
  },
  {
   "cell_type": "code",
   "execution_count": null,
   "id": "4a3c6ec0-1d01-4559-9587-cf9d9d7c75d1",
   "metadata": {},
   "outputs": [
    {
     "data": {
      "text/html": [
       "<div>\n",
       "<style scoped>\n",
       "    .dataframe tbody tr th:only-of-type {\n",
       "        vertical-align: middle;\n",
       "    }\n",
       "\n",
       "    .dataframe tbody tr th {\n",
       "        vertical-align: top;\n",
       "    }\n",
       "\n",
       "    .dataframe thead th {\n",
       "        text-align: right;\n",
       "    }\n",
       "</style>\n",
       "<table border=\"1\" class=\"dataframe\">\n",
       "  <thead>\n",
       "    <tr style=\"text-align: right;\">\n",
       "      <th></th>\n",
       "      <th>CodE</th>\n",
       "    </tr>\n",
       "  </thead>\n",
       "  <tbody>\n",
       "    <tr>\n",
       "      <th>0</th>\n",
       "      <td>2</td>\n",
       "    </tr>\n",
       "  </tbody>\n",
       "</table>\n",
       "</div>"
      ],
      "text/plain": [
       "  CodE\n",
       "0    2"
      ]
     },
     "execution_count": 31,
     "metadata": {},
     "output_type": "execute_result"
    }
   ],
   "source": [
    "#9\n",
    "query = '''\n",
    "UPDATE Empleados\n",
    "SET sueldo = sueldo * 1.05\n",
    "WHERE CODE IN \n",
    "FROM (SELECT COUNT(DISTINCT Reparto.Fecha) AS 'Dias_Trabajados', Empleados.CodE, Empleados.Nombre, Empleados.Sueldo\n",
    "FROM Reparto\n",
    "LEFT JOIN Empleados\n",
    "On Reparto.CodE = Empleados.CodE\n",
    "GROUP BY Empleados.CodE\n",
    "ORDER BY 1 DESC\n",
    "LIMIT 1) t\n",
    ")\n",
    "'''\n",
    "crsr.execute(query)"
   ]
  },
  {
   "cell_type": "code",
   "execution_count": null,
   "id": "e12acfcd",
   "metadata": {},
   "outputs": [],
   "source": [
    "query = '''\n",
    "SELEC *\n",
    "FROM Empleados\n",
    "WHERE Nombre = \"Rosa Perez\"\n",
    "'''\n",
    "sql_query(query)"
   ]
  },
  {
   "cell_type": "code",
   "execution_count": 32,
   "id": "366b2ff4-a41a-4381-bef6-f574fdeb6c79",
   "metadata": {},
   "outputs": [],
   "source": [
    "connection.commit()\n",
    "connection.close()"
   ]
  }
 ],
 "metadata": {
  "kernelspec": {
   "display_name": "Python 3",
   "language": "python",
   "name": "python3"
  },
  "language_info": {
   "codemirror_mode": {
    "name": "ipython",
    "version": 3
   },
   "file_extension": ".py",
   "mimetype": "text/x-python",
   "name": "python",
   "nbconvert_exporter": "python",
   "pygments_lexer": "ipython3",
   "version": "3.13.5"
  }
 },
 "nbformat": 4,
 "nbformat_minor": 5
}
